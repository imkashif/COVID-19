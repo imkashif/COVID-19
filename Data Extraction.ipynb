{
  "nbformat": 4,
  "nbformat_minor": 0,
  "metadata": {
    "colab": {
      "name": "COVID-19 Analysis.ipynb",
      "provenance": [],
      "collapsed_sections": [],
      "authorship_tag": "ABX9TyOjUwq64SSu+SnzhJFl16gw",
      "include_colab_link": true
    },
    "kernelspec": {
      "name": "python3",
      "display_name": "Python 3"
    }
  },
  "cells": [
    {
      "cell_type": "markdown",
      "metadata": {
        "id": "view-in-github",
        "colab_type": "text"
      },
      "source": [
        "<a href=\"https://colab.research.google.com/github/imkashif/COVID-19/blob/master/Data%20Extraction.ipynb\" target=\"_parent\"><img src=\"https://colab.research.google.com/assets/colab-badge.svg\" alt=\"Open In Colab\"/></a>"
      ]
    },
    {
      "cell_type": "markdown",
      "metadata": {
        "id": "JhqsB0xquJDu",
        "colab_type": "text"
      },
      "source": [
        "COVID-19 Analysis"
      ]
    },
    {
      "cell_type": "code",
      "metadata": {
        "id": "Anzaf0u_sIEC",
        "colab_type": "code",
        "outputId": "a4b3d45f-64ab-4ef6-ec58-4b85f35c0bf5",
        "colab": {
          "base_uri": "https://localhost:8080/",
          "height": 323
        }
      },
      "source": [
        "import pandas as pd\n",
        "import numpy as np\n",
        "from matplotlib import pyplot as plt\n",
        "time_series = pd.read_csv('https://api.covid19india.org/csv/latest/state_wise_daily.csv')\n",
        "testing_data = pd.read_csv('https://api.covid19india.org/csv/latest/statewise_tested_numbers_data.csv')\n",
        "print(time_series.shape)\n",
        "print(testing_data.shape)\n",
        "print(time_series.tail())\n",
        "print(testing_data.tail())"
      ],
      "execution_count": 12,
      "outputs": [
        {
          "output_type": "stream",
          "text": [
            "(150, 40)\n",
            "(743, 20)\n",
            "          Date     Status    TT  AN  AP  AR  AS  ...  SK   TN  TG  TR   UP  UT   WB\n",
            "145  01-May-20  Recovered   962   0  82   0   4  ...   0   54  22   0  103   1   15\n",
            "146  01-May-20   Deceased    77   0   2   0   0  ...   0    1   0   0    2   1    8\n",
            "147  02-May-20  Confirmed  2567   0  62   0   0  ...   0  231  17   2  159   2  127\n",
            "148  02-May-20  Recovered   831  10  38   0   0  ...   0   29  35   0   44   2   12\n",
            "149  02-May-20   Deceased    92   0   0   0   0  ...   0    1   1   0    1   0    7\n",
            "\n",
            "[5 rows x 40 columns]\n",
            "     Updated On        State  ...  1000  1000000\n",
            "738  29/04/2020  West Bengal  ...   NaN      NaN\n",
            "739  30/04/2020  West Bengal  ...   NaN      NaN\n",
            "740  01/05/2020  West Bengal  ...   NaN      NaN\n",
            "741  02/05/2020  West Bengal  ...   NaN      NaN\n",
            "742  03/05/2020  West Bengal  ...   NaN      NaN\n",
            "\n",
            "[5 rows x 20 columns]\n"
          ],
          "name": "stdout"
        }
      ]
    },
    {
      "cell_type": "code",
      "metadata": {
        "id": "gYl2lliIVmG9",
        "colab_type": "code",
        "colab": {}
      },
      "source": [
        "testing_data.to_csv('testing.csv')"
      ],
      "execution_count": 0,
      "outputs": []
    },
    {
      "cell_type": "code",
      "metadata": {
        "id": "AW_QKxEn2rTN",
        "colab_type": "code",
        "colab": {
          "base_uri": "https://localhost:8080/",
          "height": 71
        },
        "outputId": "7ec95416-759b-4f43-e269-a7cac90921ff"
      },
      "source": [
        "states = time_series.columns\n",
        "states = list(states[2:])\n",
        "print(states)\n",
        "print(np.max(time_series.Date))"
      ],
      "execution_count": 14,
      "outputs": [
        {
          "output_type": "stream",
          "text": [
            "['TT', 'AN', 'AP', 'AR', 'AS', 'BR', 'CH', 'CT', 'DN', 'DD', 'DL', 'GA', 'GJ', 'HR', 'HP', 'JK', 'JH', 'KA', 'KL', 'LA', 'LD', 'MP', 'MH', 'MN', 'ML', 'MZ', 'NL', 'OR', 'PY', 'PB', 'RJ', 'SK', 'TN', 'TG', 'TR', 'UP', 'UT', 'WB']\n",
            "31-Mar-20\n"
          ],
          "name": "stdout"
        }
      ]
    },
    {
      "cell_type": "code",
      "metadata": {
        "id": "rcDGg_M23EaB",
        "colab_type": "code",
        "colab": {
          "base_uri": "https://localhost:8080/",
          "height": 49
        },
        "outputId": "d30e8355-df64-4fc6-83b6-ac44154f3ff2"
      },
      "source": [
        "final_data = pd.DataFrame(columns=['Date','Status','Cases','State'])\n",
        "final_data"
      ],
      "execution_count": 15,
      "outputs": [
        {
          "output_type": "execute_result",
          "data": {
            "text/html": [
              "<div>\n",
              "<style scoped>\n",
              "    .dataframe tbody tr th:only-of-type {\n",
              "        vertical-align: middle;\n",
              "    }\n",
              "\n",
              "    .dataframe tbody tr th {\n",
              "        vertical-align: top;\n",
              "    }\n",
              "\n",
              "    .dataframe thead th {\n",
              "        text-align: right;\n",
              "    }\n",
              "</style>\n",
              "<table border=\"1\" class=\"dataframe\">\n",
              "  <thead>\n",
              "    <tr style=\"text-align: right;\">\n",
              "      <th></th>\n",
              "      <th>Date</th>\n",
              "      <th>Status</th>\n",
              "      <th>Cases</th>\n",
              "      <th>State</th>\n",
              "    </tr>\n",
              "  </thead>\n",
              "  <tbody>\n",
              "  </tbody>\n",
              "</table>\n",
              "</div>"
            ],
            "text/plain": [
              "Empty DataFrame\n",
              "Columns: [Date, Status, Cases, State]\n",
              "Index: []"
            ]
          },
          "metadata": {
            "tags": []
          },
          "execution_count": 15
        }
      ]
    },
    {
      "cell_type": "code",
      "metadata": {
        "id": "U_okmTIZ53_b",
        "colab_type": "code",
        "colab": {}
      },
      "source": [
        "def massagedata(statename):\n",
        "  data = time_series[['Date','Status',statename]]\n",
        "  data.columns = ['Date','Status','Cases']\n",
        "  data[statename] = statename\n",
        "  data.columns = ['Date','Status','Cases','State']\n",
        "  return data"
      ],
      "execution_count": 0,
      "outputs": []
    },
    {
      "cell_type": "code",
      "metadata": {
        "id": "maYqA-Kx7Rnl",
        "colab_type": "code",
        "colab": {
          "base_uri": "https://localhost:8080/",
          "height": 221
        },
        "outputId": "af69d507-2d60-47f5-8f49-358f95829b05"
      },
      "source": [
        "for st in states:\n",
        "  final_data = final_data.append(massagedata(st), ignore_index = True)\n",
        "\n",
        "print(final_data.head()) "
      ],
      "execution_count": 17,
      "outputs": [
        {
          "output_type": "stream",
          "text": [
            "        Date     Status Cases State\n",
            "0  14-Mar-20  Confirmed    81    TT\n",
            "1  14-Mar-20  Recovered     9    TT\n",
            "2  14-Mar-20   Deceased     2    TT\n",
            "3  15-Mar-20  Confirmed    27    TT\n",
            "4  15-Mar-20  Recovered     4    TT\n"
          ],
          "name": "stdout"
        },
        {
          "output_type": "stream",
          "text": [
            "/usr/local/lib/python3.6/dist-packages/ipykernel_launcher.py:4: SettingWithCopyWarning: \n",
            "A value is trying to be set on a copy of a slice from a DataFrame.\n",
            "Try using .loc[row_indexer,col_indexer] = value instead\n",
            "\n",
            "See the caveats in the documentation: https://pandas.pydata.org/pandas-docs/stable/user_guide/indexing.html#returning-a-view-versus-a-copy\n",
            "  after removing the cwd from sys.path.\n"
          ],
          "name": "stderr"
        }
      ]
    },
    {
      "cell_type": "code",
      "metadata": {
        "id": "qp4X5bt_-pM3",
        "colab_type": "code",
        "colab": {}
      },
      "source": [
        "final_data.to_csv('TSdata.csv')"
      ],
      "execution_count": 0,
      "outputs": []
    }
  ]
}